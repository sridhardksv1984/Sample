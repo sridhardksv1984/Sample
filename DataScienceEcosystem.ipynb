{
 "cells": [
  {
   "cell_type": "markdown",
   "id": "cb327b49-e0e7-4a2d-8d2e-115d8e47253b",
   "metadata": {},
   "source": [
    "# Data Science Tools and Ecosystem"
   ]
  },
  {
   "cell_type": "markdown",
   "id": "5496db2f-9020-43f3-a309-5925489b416b",
   "metadata": {},
   "source": [
    "# In this notebook Data Science and Ecosystem are summarized"
   ]
  },
  {
   "cell_type": "markdown",
   "id": "3a769487-f616-4c9f-bbc3-4069ff5b04ef",
   "metadata": {},
   "source": [
    "**Objectives:**\n",
    "- List Popular Languages for Data Science\n",
    "- Commonly used Libraries by Data Scientists\n",
    "- Data Sciecen Tools\n",
    "- Evaluating Arithmetic Expressions"
   ]
  },
  {
   "cell_type": "markdown",
   "id": "937f5a70-ecb5-4ff4-b5ce-07c503ab5ebd",
   "metadata": {},
   "source": [
    "## Some of the Popular Languages that Data Scientists user are\n",
    "1. Python\n",
    "2. R\n",
    "3. SQL"
   ]
  },
  {
   "cell_type": "markdown",
   "id": "e025acea-8570-48dc-9201-2b7729685552",
   "metadata": {},
   "source": [
    "# Some of the commonly used libraries used by Data Scientists include: \n",
    "1. Pandas\n",
    "2. Nymphy\n",
    "3. ggplot"
   ]
  },
  {
   "cell_type": "markdown",
   "id": "fac8912c-c038-4956-8859-1f47c931c1e7",
   "metadata": {},
   "source": [
    "|Data Science Tools|\n",
    "|------------------|\n",
    "| Jupyter Notebook |\n",
    "| Git Hub          |\n",
    "| R Studio         | "
   ]
  },
  {
   "cell_type": "markdown",
   "id": "683e17f0-17bd-4789-b7cb-99da47e06235",
   "metadata": {},
   "source": [
    "## Below are a few examples of evaluating Arithmetic expressions in Python"
   ]
  },
  {
   "cell_type": "code",
   "execution_count": 1,
   "id": "b246a67c-6c88-4714-b048-23c570c0a553",
   "metadata": {},
   "outputs": [
    {
     "data": {
      "text/plain": [
       "17"
      ]
     },
     "execution_count": 1,
     "metadata": {},
     "output_type": "execute_result"
    }
   ],
   "source": [
    "# This is a simple Arithmetic expression to multiply then add integers\n",
    "(3*4)+5"
   ]
  },
  {
   "cell_type": "code",
   "execution_count": 2,
   "id": "984f9681-966f-4fff-99b3-7d9f69d32fac",
   "metadata": {},
   "outputs": [
    {
     "data": {
      "text/plain": [
       "3.3333333333333335"
      ]
     },
     "execution_count": 2,
     "metadata": {},
     "output_type": "execute_result"
    }
   ],
   "source": [
    "# This will convert 200 minutes to hours by dividing by 60\n",
    "200/60"
   ]
  },
  {
   "cell_type": "markdown",
   "id": "42d167b3-fcae-43c0-81e9-eac980a3b560",
   "metadata": {},
   "source": [
    "## Author\n",
    "Sridhar"
   ]
  },
  {
   "cell_type": "code",
   "execution_count": null,
   "id": "b91b3155-52e6-476c-83f1-6c148365ade6",
   "metadata": {},
   "outputs": [],
   "source": []
  }
 ],
 "metadata": {
  "kernelspec": {
   "display_name": "Python 3 (ipykernel)",
   "language": "python",
   "name": "python3"
  },
  "language_info": {
   "codemirror_mode": {
    "name": "ipython",
    "version": 3
   },
   "file_extension": ".py",
   "mimetype": "text/x-python",
   "name": "python",
   "nbconvert_exporter": "python",
   "pygments_lexer": "ipython3",
   "version": "3.12.8"
  }
 },
 "nbformat": 4,
 "nbformat_minor": 5
}
